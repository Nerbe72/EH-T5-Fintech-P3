{
 "cells": [
  {
   "cell_type": "code",
   "execution_count": 7,
   "id": "7c597a89",
   "metadata": {},
   "outputs": [],
   "source": [
    "import vectorbt as vb\n",
    "from pykrx import stock\n",
    "import pandas as pd\n",
    "import time"
   ]
  },
  {
   "cell_type": "markdown",
   "id": "379d1304",
   "metadata": {},
   "source": [
    "# PBR+PER 시가총액별 콤보 전략"
   ]
  },
  {
   "cell_type": "code",
   "execution_count": 8,
   "id": "c263b17a",
   "metadata": {},
   "outputs": [],
   "source": [
    "df1 = stock.get_market_cap(\"20100104\")\n",
    "df1 = df1[[\"종가\", \"시가총액\"]]\n",
    "df1.columns = [\"시가\", \"시가총액\"]\n",
    "df1 = df1.sort_values('시가총액')\n",
    "df1['group'] = pd.cut(df1.reset_index().index, bins=3, labels=['소형주', '중형주', '대형주'])"
   ]
  },
  {
   "cell_type": "code",
   "execution_count": 9,
   "id": "7b47883d",
   "metadata": {},
   "outputs": [
    {
     "data": {
      "text/html": [
       "<div>\n",
       "<style scoped>\n",
       "    .dataframe tbody tr th:only-of-type {\n",
       "        vertical-align: middle;\n",
       "    }\n",
       "\n",
       "    .dataframe tbody tr th {\n",
       "        vertical-align: top;\n",
       "    }\n",
       "\n",
       "    .dataframe thead th {\n",
       "        text-align: right;\n",
       "    }\n",
       "</style>\n",
       "<table border=\"1\" class=\"dataframe\">\n",
       "  <thead>\n",
       "    <tr style=\"text-align: right;\">\n",
       "      <th></th>\n",
       "      <th>시가</th>\n",
       "      <th>시가총액</th>\n",
       "      <th>group</th>\n",
       "    </tr>\n",
       "    <tr>\n",
       "      <th>티커</th>\n",
       "      <th></th>\n",
       "      <th></th>\n",
       "      <th></th>\n",
       "    </tr>\n",
       "  </thead>\n",
       "  <tbody>\n",
       "    <tr>\n",
       "      <th>001385</th>\n",
       "      <td>5466000</td>\n",
       "      <td>60126000</td>\n",
       "      <td>소형주</td>\n",
       "    </tr>\n",
       "    <tr>\n",
       "      <th>020075</th>\n",
       "      <td>3750</td>\n",
       "      <td>75000000</td>\n",
       "      <td>소형주</td>\n",
       "    </tr>\n",
       "    <tr>\n",
       "      <th>009815</th>\n",
       "      <td>641000</td>\n",
       "      <td>110893000</td>\n",
       "      <td>소형주</td>\n",
       "    </tr>\n",
       "    <tr>\n",
       "      <th>033855</th>\n",
       "      <td>12850</td>\n",
       "      <td>145873200</td>\n",
       "      <td>소형주</td>\n",
       "    </tr>\n",
       "    <tr>\n",
       "      <th>017555</th>\n",
       "      <td>174500</td>\n",
       "      <td>177990000</td>\n",
       "      <td>소형주</td>\n",
       "    </tr>\n",
       "    <tr>\n",
       "      <th>...</th>\n",
       "      <td>...</td>\n",
       "      <td>...</td>\n",
       "      <td>...</td>\n",
       "    </tr>\n",
       "    <tr>\n",
       "      <th>015760</th>\n",
       "      <td>34250</td>\n",
       "      <td>21973694136000</td>\n",
       "      <td>대형주</td>\n",
       "    </tr>\n",
       "    <tr>\n",
       "      <th>105560</th>\n",
       "      <td>59400</td>\n",
       "      <td>22949290564200</td>\n",
       "      <td>대형주</td>\n",
       "    </tr>\n",
       "    <tr>\n",
       "      <th>005380</th>\n",
       "      <td>119000</td>\n",
       "      <td>26212901001000</td>\n",
       "      <td>대형주</td>\n",
       "    </tr>\n",
       "    <tr>\n",
       "      <th>005490</th>\n",
       "      <td>612000</td>\n",
       "      <td>53358343020000</td>\n",
       "      <td>대형주</td>\n",
       "    </tr>\n",
       "    <tr>\n",
       "      <th>005930</th>\n",
       "      <td>809000</td>\n",
       "      <td>119165163633000</td>\n",
       "      <td>대형주</td>\n",
       "    </tr>\n",
       "  </tbody>\n",
       "</table>\n",
       "<p>1961 rows × 3 columns</p>\n",
       "</div>"
      ],
      "text/plain": [
       "             시가             시가총액 group\n",
       "티커                                    \n",
       "001385  5466000         60126000   소형주\n",
       "020075     3750         75000000   소형주\n",
       "009815   641000        110893000   소형주\n",
       "033855    12850        145873200   소형주\n",
       "017555   174500        177990000   소형주\n",
       "...         ...              ...   ...\n",
       "015760    34250   21973694136000   대형주\n",
       "105560    59400   22949290564200   대형주\n",
       "005380   119000   26212901001000   대형주\n",
       "005490   612000   53358343020000   대형주\n",
       "005930   809000  119165163633000   대형주\n",
       "\n",
       "[1961 rows x 3 columns]"
      ]
     },
     "execution_count": 9,
     "metadata": {},
     "output_type": "execute_result"
    }
   ],
   "source": [
    "df1"
   ]
  },
  {
   "cell_type": "code",
   "execution_count": 10,
   "id": "42e582ab",
   "metadata": {},
   "outputs": [],
   "source": [
    "df2 = stock.get_market_fundamental (\"20100104\")\n",
    "df2 = df2[['PER', 'PBR']]"
   ]
  },
  {
   "cell_type": "code",
   "execution_count": 11,
   "id": "028334a5",
   "metadata": {},
   "outputs": [],
   "source": [
    "df3 = stock.get_market_ohlcv(\"20101230\")\n",
    "df3 = df3[['종가']]"
   ]
  },
  {
   "cell_type": "code",
   "execution_count": 12,
   "id": "1adb70fb",
   "metadata": {},
   "outputs": [
    {
     "data": {
      "text/html": [
       "<div>\n",
       "<style scoped>\n",
       "    .dataframe tbody tr th:only-of-type {\n",
       "        vertical-align: middle;\n",
       "    }\n",
       "\n",
       "    .dataframe tbody tr th {\n",
       "        vertical-align: top;\n",
       "    }\n",
       "\n",
       "    .dataframe thead th {\n",
       "        text-align: right;\n",
       "    }\n",
       "</style>\n",
       "<table border=\"1\" class=\"dataframe\">\n",
       "  <thead>\n",
       "    <tr style=\"text-align: right;\">\n",
       "      <th></th>\n",
       "      <th>종가</th>\n",
       "    </tr>\n",
       "    <tr>\n",
       "      <th>티커</th>\n",
       "      <th></th>\n",
       "    </tr>\n",
       "  </thead>\n",
       "  <tbody>\n",
       "    <tr>\n",
       "      <th>004560</th>\n",
       "      <td>11250</td>\n",
       "    </tr>\n",
       "    <tr>\n",
       "      <th>004565</th>\n",
       "      <td>12450</td>\n",
       "    </tr>\n",
       "    <tr>\n",
       "      <th>001460</th>\n",
       "      <td>161000</td>\n",
       "    </tr>\n",
       "    <tr>\n",
       "      <th>001465</th>\n",
       "      <td>74400</td>\n",
       "    </tr>\n",
       "    <tr>\n",
       "      <th>001040</th>\n",
       "      <td>78900</td>\n",
       "    </tr>\n",
       "    <tr>\n",
       "      <th>...</th>\n",
       "      <td>...</td>\n",
       "    </tr>\n",
       "    <tr>\n",
       "      <th>069260</th>\n",
       "      <td>19600</td>\n",
       "    </tr>\n",
       "    <tr>\n",
       "      <th>000540</th>\n",
       "      <td>6100</td>\n",
       "    </tr>\n",
       "    <tr>\n",
       "      <th>000547</th>\n",
       "      <td>6000</td>\n",
       "    </tr>\n",
       "    <tr>\n",
       "      <th>000545</th>\n",
       "      <td>2770</td>\n",
       "    </tr>\n",
       "    <tr>\n",
       "      <th>003280</th>\n",
       "      <td>1160</td>\n",
       "    </tr>\n",
       "  </tbody>\n",
       "</table>\n",
       "<p>927 rows × 1 columns</p>\n",
       "</div>"
      ],
      "text/plain": [
       "            종가\n",
       "티커            \n",
       "004560   11250\n",
       "004565   12450\n",
       "001460  161000\n",
       "001465   74400\n",
       "001040   78900\n",
       "...        ...\n",
       "069260   19600\n",
       "000540    6100\n",
       "000547    6000\n",
       "000545    2770\n",
       "003280    1160\n",
       "\n",
       "[927 rows x 1 columns]"
      ]
     },
     "execution_count": 12,
     "metadata": {},
     "output_type": "execute_result"
    }
   ],
   "source": [
    "df3"
   ]
  },
  {
   "cell_type": "code",
   "execution_count": 13,
   "id": "95b6601c",
   "metadata": {},
   "outputs": [],
   "source": [
    "t0 = pd.merge(left=df1, right=df2, left_index=True, right_index=True)\n",
    "df = pd.merge(left=df3, right=t0, left_index=True, right_index=True)"
   ]
  },
  {
   "cell_type": "code",
   "execution_count": 14,
   "id": "c6fe5809",
   "metadata": {},
   "outputs": [
    {
     "data": {
      "text/html": [
       "<div>\n",
       "<style scoped>\n",
       "    .dataframe tbody tr th:only-of-type {\n",
       "        vertical-align: middle;\n",
       "    }\n",
       "\n",
       "    .dataframe tbody tr th {\n",
       "        vertical-align: top;\n",
       "    }\n",
       "\n",
       "    .dataframe thead th {\n",
       "        text-align: right;\n",
       "    }\n",
       "</style>\n",
       "<table border=\"1\" class=\"dataframe\">\n",
       "  <thead>\n",
       "    <tr style=\"text-align: right;\">\n",
       "      <th></th>\n",
       "      <th>시가</th>\n",
       "      <th>시가총액</th>\n",
       "      <th>group</th>\n",
       "      <th>PER</th>\n",
       "      <th>PBR</th>\n",
       "    </tr>\n",
       "    <tr>\n",
       "      <th>티커</th>\n",
       "      <th></th>\n",
       "      <th></th>\n",
       "      <th></th>\n",
       "      <th></th>\n",
       "      <th></th>\n",
       "    </tr>\n",
       "  </thead>\n",
       "  <tbody>\n",
       "    <tr>\n",
       "      <th>001385</th>\n",
       "      <td>5466000</td>\n",
       "      <td>60126000</td>\n",
       "      <td>소형주</td>\n",
       "      <td>0.00</td>\n",
       "      <td>0.00</td>\n",
       "    </tr>\n",
       "    <tr>\n",
       "      <th>009815</th>\n",
       "      <td>641000</td>\n",
       "      <td>110893000</td>\n",
       "      <td>소형주</td>\n",
       "      <td>0.00</td>\n",
       "      <td>0.00</td>\n",
       "    </tr>\n",
       "    <tr>\n",
       "      <th>017555</th>\n",
       "      <td>174500</td>\n",
       "      <td>177990000</td>\n",
       "      <td>소형주</td>\n",
       "      <td>0.00</td>\n",
       "      <td>0.00</td>\n",
       "    </tr>\n",
       "    <tr>\n",
       "      <th>012405</th>\n",
       "      <td>7470</td>\n",
       "      <td>179280000</td>\n",
       "      <td>소형주</td>\n",
       "      <td>0.00</td>\n",
       "      <td>0.00</td>\n",
       "    </tr>\n",
       "    <tr>\n",
       "      <th>018415</th>\n",
       "      <td>170000</td>\n",
       "      <td>192780000</td>\n",
       "      <td>소형주</td>\n",
       "      <td>0.00</td>\n",
       "      <td>0.00</td>\n",
       "    </tr>\n",
       "    <tr>\n",
       "      <th>...</th>\n",
       "      <td>...</td>\n",
       "      <td>...</td>\n",
       "      <td>...</td>\n",
       "      <td>...</td>\n",
       "      <td>...</td>\n",
       "    </tr>\n",
       "    <tr>\n",
       "      <th>015760</th>\n",
       "      <td>34250</td>\n",
       "      <td>21973694136000</td>\n",
       "      <td>대형주</td>\n",
       "      <td>0.00</td>\n",
       "      <td>0.51</td>\n",
       "    </tr>\n",
       "    <tr>\n",
       "      <th>105560</th>\n",
       "      <td>59400</td>\n",
       "      <td>22949290564200</td>\n",
       "      <td>대형주</td>\n",
       "      <td>0.00</td>\n",
       "      <td>0.00</td>\n",
       "    </tr>\n",
       "    <tr>\n",
       "      <th>005380</th>\n",
       "      <td>119000</td>\n",
       "      <td>26212901001000</td>\n",
       "      <td>대형주</td>\n",
       "      <td>22.35</td>\n",
       "      <td>1.57</td>\n",
       "    </tr>\n",
       "    <tr>\n",
       "      <th>005490</th>\n",
       "      <td>612000</td>\n",
       "      <td>53358343020000</td>\n",
       "      <td>대형주</td>\n",
       "      <td>10.39</td>\n",
       "      <td>1.55</td>\n",
       "    </tr>\n",
       "    <tr>\n",
       "      <th>005930</th>\n",
       "      <td>809000</td>\n",
       "      <td>119165163633000</td>\n",
       "      <td>대형주</td>\n",
       "      <td>21.47</td>\n",
       "      <td>1.77</td>\n",
       "    </tr>\n",
       "  </tbody>\n",
       "</table>\n",
       "<p>866 rows × 5 columns</p>\n",
       "</div>"
      ],
      "text/plain": [
       "             시가             시가총액 group    PER   PBR\n",
       "티커                                                 \n",
       "001385  5466000         60126000   소형주   0.00  0.00\n",
       "009815   641000        110893000   소형주   0.00  0.00\n",
       "017555   174500        177990000   소형주   0.00  0.00\n",
       "012405     7470        179280000   소형주   0.00  0.00\n",
       "018415   170000        192780000   소형주   0.00  0.00\n",
       "...         ...              ...   ...    ...   ...\n",
       "015760    34250   21973694136000   대형주   0.00  0.51\n",
       "105560    59400   22949290564200   대형주   0.00  0.00\n",
       "005380   119000   26212901001000   대형주  22.35  1.57\n",
       "005490   612000   53358343020000   대형주  10.39  1.55\n",
       "005930   809000  119165163633000   대형주  21.47  1.77\n",
       "\n",
       "[866 rows x 5 columns]"
      ]
     },
     "execution_count": 14,
     "metadata": {},
     "output_type": "execute_result"
    }
   ],
   "source": [
    "t0"
   ]
  },
  {
   "cell_type": "code",
   "execution_count": 15,
   "id": "27ae5938",
   "metadata": {},
   "outputs": [],
   "source": [
    "df = df.query('PBR != 0')\n",
    "df['수익률'] = df['종가'] / df['시가']\n",
    "cond = (df['PER'] >= 2.5) & (df['PER'] <= 10)\n",
    "top30 = df[cond].sort_values('PBR').groupby('group').head(30)"
   ]
  },
  {
   "cell_type": "code",
   "execution_count": 16,
   "id": "017d1749",
   "metadata": {},
   "outputs": [
    {
     "name": "stdout",
     "output_type": "stream",
     "text": [
      "           2010\n",
      "group          \n",
      "소형주    1.291967\n",
      "중형주    1.115437\n",
      "대형주    1.004330\n"
     ]
    }
   ],
   "source": [
    "import numpy as np\n",
    "\n",
    "how = {\n",
    "    '수익률' : np.mean\n",
    "}\n",
    "yoy = top30.groupby('group').agg(how)\n",
    "yoy.columns = ['2010']\n",
    "print(yoy)"
   ]
  },
  {
   "cell_type": "markdown",
   "id": "a661dbf6",
   "metadata": {},
   "source": [
    "# 함수"
   ]
  },
  {
   "cell_type": "code",
   "execution_count": 1,
   "id": "d4ac3621",
   "metadata": {},
   "outputs": [],
   "source": [
    "from datetime import datetime, timedelta\n",
    "import numpy as np\n",
    "import vectorbt as vb\n",
    "from pykrx import stock\n",
    "import pandas as pd\n",
    "import time\n",
    "import matplotlib.pyplot as plt\n",
    "from matplotlib import font_manager, rc\n",
    "import warnings \n",
    "warnings.filterwarnings('ignore')"
   ]
  },
  {
   "cell_type": "code",
   "execution_count": 2,
   "id": "1e760faa",
   "metadata": {},
   "outputs": [],
   "source": [
    "def date_range(start, end):\n",
    "    start = datetime.strptime(start, '%Y%m%d')\n",
    "    end = datetime.strptime(end, '%Y%m%d')\n",
    "    dates = [start.strftime('%Y%m%d'), end.strftime('%Y%m%d')]\n",
    "    dates = [stock.get_nearest_business_day_in_a_week(d) for d in dates]\n",
    "    return dates"
   ]
  },
  {
   "cell_type": "code",
   "execution_count": 3,
   "id": "f39ae56f",
   "metadata": {},
   "outputs": [],
   "source": [
    "def low_per_pbr(year):\n",
    "    dates = date_range(f\"{year}0101\", f\"{year}1231\")\n",
    "    start = dates[0]\n",
    "    end = dates[1]\n",
    "    df1 = stock.get_market_cap(start)\n",
    "    df1 = df1[[\"종가\", \"시가총액\"]]\n",
    "    df1.columns = [\"시가\", \"시가총액\"]\n",
    "    df1 = df1.sort_values('시가총액')\n",
    "    df1['group'] = pd.cut(df1.reset_index().index, bins=3, labels=['소형주', '중형주', '대형주'])\n",
    "    \n",
    "    df2 = stock.get_market_fundamental (start)\n",
    "    df2 = df2[['PER', 'PBR']]\n",
    "    \n",
    "    df3 = stock.get_market_ohlcv(end)\n",
    "    df3 = df3[['종가']]\n",
    "    \n",
    "    t0 = pd.merge(left=df1, right=df2, left_index=True, right_index=True)\n",
    "    df = pd.merge(left=df3, right=t0, left_index=True, right_index=True)\n",
    "    \n",
    "    df = df.query('PBR != 0')\n",
    "    df['수익률'] = df['종가'] / df['시가']\n",
    "    cond = (df['PER'] >= 2.5) & (df['PER'] <= 15)\n",
    "    top30 = df[cond].sort_values('PBR').groupby('group').head(30)\n",
    "    \n",
    "    how = {'수익률' : np.mean}\n",
    "    yoy = top30.groupby('group').agg(how)\n",
    "    yoy.columns = [f\"{year}\"]\n",
    "    return yoy"
   ]
  },
  {
   "cell_type": "code",
   "execution_count": 4,
   "id": "e1e8c70f",
   "metadata": {
    "scrolled": false
   },
   "outputs": [
    {
     "name": "stdout",
     "output_type": "stream",
     "text": [
      "2007 2008 2009 2010 2011 2012 2013 2014 2015 2016 2017 2018 2019 \n",
      "           2007      2008      2009      2010      2011      2012      2013  \\\n",
      "group                                                                         \n",
      "소형주    1.699672  0.549113  1.725836  1.271930  1.130756  1.994999  1.093434   \n",
      "중형주    1.684479  0.486649  1.681727  1.063843  0.889110  1.194262  1.092358   \n",
      "대형주    1.418151  0.646664  1.883903  1.137969  0.795723  1.109974  1.152098   \n",
      "\n",
      "           2014      2015      2016      2017      2018      2019  \n",
      "group                                                              \n",
      "소형주    1.215777  1.629264  1.345687  1.025393  1.113899  1.173963  \n",
      "중형주    1.431826  1.085603  1.165421  1.060468  0.947189  1.014922  \n",
      "대형주    1.145731  1.145364  1.102614  1.120479  0.830155  0.948793  \n"
     ]
    }
   ],
   "source": [
    "dfs = [ ]\n",
    "for date in range(2007, 2020):\n",
    "    df = low_per_pbr(f\"{date}\")\n",
    "    dfs.append(df)\n",
    "    print(date, end=\" \")\n",
    "    time.sleep(1)\n",
    "print(\"\")\n",
    "df = pd.concat(dfs, axis=1)\n",
    "print(df)"
   ]
  },
  {
   "cell_type": "code",
   "execution_count": 23,
   "id": "a001b7e0",
   "metadata": {},
   "outputs": [],
   "source": [
    "pf = vb.Portfolio.from_orders(\n",
    "    df[:'대형주'].transpose(),\n",
    "    1/2,  # allocate 50% to each asset, if there are three assets then use 1/3\n",
    "    size_type='targetpercent',\n",
    "    call_seq='auto',  # sell before buy\n",
    "    group_by=True,\n",
    "    cash_sharing=True,\n",
    "    fees=0.001, \n",
    "    slippage=0.001\n",
    ")"
   ]
  },
  {
   "cell_type": "code",
   "execution_count": 24,
   "id": "07bff1d5",
   "metadata": {
    "scrolled": false
   },
   "outputs": [
    {
     "data": {
      "text/plain": [
       "Start                              2007\n",
       "End                                2019\n",
       "Period                               13\n",
       "Start Value                       100.0\n",
       "End Value                     71.573259\n",
       "Total Return [%]             -28.426741\n",
       "Benchmark Return [%]         -34.591685\n",
       "Max Gross Exposure [%]            100.0\n",
       "Total Fees Paid                0.197076\n",
       "Max Drawdown [%]              69.401506\n",
       "Max Drawdown Duration              10.0\n",
       "Total Trades                         14\n",
       "Total Closed Trades                  12\n",
       "Total Open Trades                     2\n",
       "Open Trade PnL               -20.407257\n",
       "Win Rate [%]                       25.0\n",
       "Best Trade [%]                16.839092\n",
       "Worst Trade [%]              -67.889782\n",
       "Avg Winning Trade [%]          9.055677\n",
       "Avg Losing Trade [%]         -27.698124\n",
       "Avg Winning Trade Duration          5.0\n",
       "Avg Losing Trade Duration           7.0\n",
       "Profit Factor                  0.176854\n",
       "Expectancy                     -0.66829\n",
       "Name: group, dtype: object"
      ]
     },
     "execution_count": 24,
     "metadata": {},
     "output_type": "execute_result"
    }
   ],
   "source": [
    "pf.stats()"
   ]
  },
  {
   "cell_type": "code",
   "execution_count": 25,
   "id": "9d16b3b3",
   "metadata": {},
   "outputs": [
    {
     "data": {
      "application/vnd.jupyter.widget-view+json": {
       "model_id": "f132c3b3609e45a3acd05c69d94bcc31",
       "version_major": 2,
       "version_minor": 0
      },
      "text/plain": [
       "FigureWidget({\n",
       "    'data': [{'legendgroup': '0',\n",
       "              'line': {'color': '#7f7f7f'},\n",
       "              'na…"
      ]
     },
     "metadata": {},
     "output_type": "display_data"
    }
   ],
   "source": [
    "pf.plot()"
   ]
  },
  {
   "cell_type": "code",
   "execution_count": 19,
   "id": "27b300d0",
   "metadata": {},
   "outputs": [
    {
     "data": {
      "text/plain": [
       "<AxesSubplot:>"
      ]
     },
     "execution_count": 19,
     "metadata": {},
     "output_type": "execute_result"
    },
    {
     "data": {
      "image/png": "[encoded data removed]",
      "text/plain": [
       "<Figure size 432x288 with 1 Axes>"
      ]
     },
     "metadata": {
      "needs_background": "light"
     },
     "output_type": "display_data"
    }
   ],
   "source": [
    "font_path = \"C:/Windows/Fonts/NGULIM.TTF\"\n",
    "font = font_manager.FontProperties(fname=font_path).get_name()\n",
    "rc('font', family=font)\n",
    "df.cumprod(axis=1).transpose().plot.line()"
   ]
  },
  {
   "cell_type": "code",
   "execution_count": null,
   "id": "412d4df8",
   "metadata": {},
   "outputs": [],
   "source": []
  },
  {
   "cell_type": "code",
   "execution_count": null,
   "id": "75e9eaf5",
   "metadata": {},
   "outputs": [],
   "source": []
  }
 ],
 "metadata": {
  "kernelspec": {
   "display_name": "Python 3 (ipykernel)",
   "language": "python",
   "name": "python3"
  },
  "language_info": {
   "codemirror_mode": {
    "name": "ipython",
    "version": 3
   },
   "file_extension": ".py",
   "mimetype": "text/x-python",
   "name": "python",
   "nbconvert_exporter": "python",
   "pygments_lexer": "ipython3",
   "version": "3.9.12"
  }
 },
 "nbformat": 4,
 "nbformat_minor": 5
}
